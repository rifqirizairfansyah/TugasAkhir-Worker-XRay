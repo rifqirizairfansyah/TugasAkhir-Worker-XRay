{
 "cells": [
  {
   "cell_type": "code",
   "execution_count": 1,
   "metadata": {},
   "outputs": [],
   "source": [
    "%load_ext autoreload\n",
    "%autoreload 2"
   ]
  },
  {
   "cell_type": "code",
   "execution_count": 2,
   "metadata": {},
   "outputs": [],
   "source": [
    "#!/usr/bin/env python\n",
    "# coding: utf-8\n",
    "\n",
    "import os,sys\n",
    "sys.path.insert(0,\"..\")\n",
    "sys.path.insert(0, \"/workspace/update/torchxrayvision\")\n",
    "sys.path.insert(0, \"/workspace/update/torchxrayvision/torchxrayvision\")\n",
    "from glob import glob\n",
    "from os.path import exists, join\n",
    "import matplotlib.pyplot as plt\n",
    "import numpy as np\n",
    "from tqdm import tqdm\n",
    "import argparse\n",
    "\n",
    "import torch\n",
    "import torchvision, torchvision.transforms\n",
    "import skimage.transform\n",
    "import sklearn\n",
    "\n",
    "import random\n",
    "import train_utils\n",
    "import pickle\n",
    "import torchxrayvision as xrv\n"
   ]
  },
  {
   "cell_type": "code",
   "execution_count": 4,
   "metadata": {},
   "outputs": [
    {
     "name": "stdout",
     "output_type": "stream",
     "text": [
      "/workspace/update/torchxrayvision/scripts/calibration\r\n"
     ]
    }
   ],
   "source": [
    "! pwd"
   ]
  },
  {
   "cell_type": "code",
   "execution_count": 3,
   "metadata": {},
   "outputs": [
    {
     "name": "stdout",
     "output_type": "stream",
     "text": [
      "results_chex-nih-mimic_ch-pc-google-openi-kaggle-densenet121-cropped-best_chex-nih-mimic_ch-pc-google-openi-kaggle-mimic_nb.pkl\r\n",
      "results_chex-nih-mimic_ch-pc-google-openi-kaggle-densenet121-cropped-best_chex-nih-mimic_ch-pc-google-openi-kaggle.pkl\r\n",
      "results_chex-nih-mimic_ch-pc-google-openi-kaggle-densenet121-cropped-best_chex-nih_relabel-mimic_ch-pc-google-openi-kaggle-mimic_nb.pkl\r\n",
      "results_chex-nih-mimic_ch-pc-google-openi-kaggle-densenet121-cropped-best_chex-nih_relabel-mimic_ch-pc-google-openi-kaggle.pkl\r\n",
      "results_chex-nih-mimic_ch-pc-google-openi-kaggle-densenet121-cropped_relabel-nih-best_chex-nih-mimic_ch-pc-google-openi-kaggle-mimic_nb.pkl\r\n",
      "results_chex-nih-mimic_ch-pc-google-openi-kaggle-densenet121-cropped_relabel-nih-best_chex-nih-mimic_ch-pc-google-openi-kaggle.pkl\r\n",
      "results_chex-nih-mimic_ch-pc-google-openi-kaggle-densenet121-cropped_relabel-nih-best_chex-nih_relabel-mimic_ch-pc-google-openi-kaggle-mimic_nb.pkl\r\n",
      "results_chex-nih-mimic_ch-pc-google-openi-kaggle-densenet121-cropped_relabel-nih-best_chex-nih_relabel-mimic_ch-pc-google-openi-kaggle.pkl\r\n",
      "results_chex-nih-mimic_nb-mimic_ch-pc-google-openi-kaggle-densenet121-model_2_cropped-best_chex-nih-mimic_ch-pc-google-openi-kaggle-mimic_nb.pkl\r\n",
      "results_chex-nih-mimic_nb-mimic_ch-pc-google-openi-kaggle-densenet121-model_2_cropped-best_chex-nih-mimic_ch-pc-google-openi-kaggle.pkl\r\n",
      "results_chex-nih-mimic_nb-mimic_ch-pc-google-openi-kaggle-densenet121-model_2_cropped-best_chex-nih_relabel-mimic_ch-pc-google-openi-kaggle-mimic_nb.pkl\r\n",
      "results_chex-nih-mimic_nb-mimic_ch-pc-google-openi-kaggle-densenet121-model_2_cropped-best_chex-nih_relabel-mimic_ch-pc-google-openi-kaggle.pkl\r\n",
      "results_chex-nih-mimic_nb-mimic_ch-pc-google-openi-kaggle-densenet121-model_2_cropped_relabel-nih-best_chex-nih-mimic_ch-pc-google-openi-kaggle-mimic_nb.pkl\r\n",
      "results_chex-nih-mimic_nb-mimic_ch-pc-google-openi-kaggle-densenet121-model_2_cropped_relabel-nih-best_chex-nih-mimic_ch-pc-google-openi-kaggle.pkl\r\n",
      "results_chex-nih-mimic_nb-mimic_ch-pc-google-openi-kaggle-densenet121-model_2_cropped_relabel-nih-best_chex-nih_relabel-mimic_ch-pc-google-openi-kaggle-mimic_nb.pkl\r\n",
      "results_chex-nih-mimic_nb-mimic_ch-pc-google-openi-kaggle-densenet121-model_2_cropped_relabel-nih-best_chex-nih_relabel-mimic_ch-pc-google-openi-kaggle.pkl\r\n"
     ]
    }
   ],
   "source": [
    "!ls res*"
   ]
  },
  {
   "cell_type": "code",
   "execution_count": null,
   "metadata": {},
   "outputs": [],
   "source": []
  },
  {
   "cell_type": "code",
   "execution_count": 131,
   "metadata": {},
   "outputs": [],
   "source": [
    "base_path = \"/workspace/update/torchxrayvision/scripts/calibration/\"\n",
    "pkl_name = \"results_chex-nih-mimic_nb-mimic_ch-pc-google-openi-kaggle-densenet121-model_2_cropped-best_chex-nih-mimic_ch-pc-google-openi-kaggle-mimic_nb.pkl\""
   ]
  },
  {
   "cell_type": "code",
   "execution_count": 132,
   "metadata": {},
   "outputs": [],
   "source": [
    "import pickle\n",
    "path_pkl = base_path + pkl_name\n",
    "with open(path_pkl, 'rb') as f:\n",
    "    results = pickle.load(f)\n"
   ]
  },
  {
   "cell_type": "code",
   "execution_count": 152,
   "metadata": {},
   "outputs": [
    {
     "data": {
      "text/plain": [
       "{0: array([0., 0., 0., ..., 0., 0., 0.]),\n",
       " 1: array([0., 0., 0., ..., 0., 0., 0.]),\n",
       " 2: array([0., 0., 0., ..., 0., 0., 0.]),\n",
       " 3: array([0., 0., 0., ..., 0., 0., 0.]),\n",
       " 4: array([0., 0., 0., ..., 0., 0., 0.]),\n",
       " 5: array([0., 0., 0., ..., 0., 0., 0.]),\n",
       " 6: array([0., 0., 1., ..., 0., 0., 0.]),\n",
       " 7: array([0., 0., 0., ..., 0., 0., 0.]),\n",
       " 8: array([0., 0., 0., ..., 0., 0., 1.]),\n",
       " 9: array([0., 0., 0., ..., 0., 0., 0.]),\n",
       " 10: array([0., 0., 0., ..., 0., 0., 0.]),\n",
       " 11: array([0., 0., 0., ..., 0., 0., 0.]),\n",
       " 12: array([0., 0., 0., ..., 0., 0., 0.]),\n",
       " 13: array([0., 0., 0., ..., 0., 0., 0.]),\n",
       " 14: array([0., 0., 0., ..., 0., 0., 0.]),\n",
       " 15: array([0., 0., 0., ..., 0., 0., 0.]),\n",
       " 16: array([0., 0., 0., ..., 0., 0., 1.]),\n",
       " 17: array([0., 0., 0., ..., 0., 0., 0.])}"
      ]
     },
     "execution_count": 152,
     "metadata": {},
     "output_type": "execute_result"
    }
   ],
   "source": [
    "results[3]"
   ]
  },
  {
   "cell_type": "code",
   "execution_count": 154,
   "metadata": {},
   "outputs": [
    {
     "data": {
      "text/plain": [
       "(array([-7.114351 , -5.7151794, -2.8105702, ..., -4.2162313, -5.1159444,\n",
       "        -6.953275 ], dtype=float32),\n",
       " 84163)"
      ]
     },
     "execution_count": 154,
     "metadata": {},
     "output_type": "execute_result"
    }
   ],
   "source": [
    "results[2][1] "
   ]
  },
  {
   "cell_type": "code",
   "execution_count": 155,
   "metadata": {},
   "outputs": [
    {
     "data": {
      "text/plain": [
       "84163"
      ]
     },
     "execution_count": 155,
     "metadata": {},
     "output_type": "execute_result"
    }
   ],
   "source": [
    "len(results[2][1])"
   ]
  },
  {
   "cell_type": "code",
   "execution_count": 135,
   "metadata": {},
   "outputs": [],
   "source": [
    "all_threshs = []\n",
    "all_min = []\n",
    "all_max = []\n",
    "all_ppv80 = []\n",
    "for i, patho in enumerate(xrv.datasets.default_pathologies):\n",
    "    opt_thres = np.nan\n",
    "    opt_max = np.nan\n",
    "    if len(results[3][i]) > 0:\n",
    "        \n",
    "        #sigmoid\n",
    "        all_outputs = 1.0/(1.0 + np.exp(-results[2][i]))\n",
    "        \n",
    "        fpr, tpr, thres = sklearn.metrics.roc_curve(results[3][i], all_outputs)\n",
    "        pente = tpr - fpr\n",
    "        opt_thres = thres[np.argmax(pente)]\n",
    "        opt_min = all_outputs.min()\n",
    "        opt_max = all_outputs.max()\n",
    "        \n",
    "        ppv, recall, thres = sklearn.metrics.precision_recall_curve(results[3][i], all_outputs)\n",
    "        ppv80_thres_idx = np.where(ppv > 0.8)[0][0]\n",
    "        ppv80_thres = thres[ppv80_thres_idx-1]\n",
    "        \n",
    "        \n",
    "    all_threshs.append(opt_thres)\n",
    "    all_min.append(opt_min)\n",
    "    all_max.append(opt_max)\n",
    "    all_ppv80.append(ppv80_thres)"
   ]
  },
  {
   "cell_type": "code",
   "execution_count": 136,
   "metadata": {},
   "outputs": [
    {
     "name": "stdout",
     "output_type": "stream",
     "text": [
      "[0.08653892, 0.017242203, 0.061408978, 0.006965817, 0.007230344, 0.008352524, 0.0052154628, 0.09193552, 0.035084374, 0.020144384, 0.0809918, 0.032811552, 0.0071497215, 0.014541325, 0.019512547, 0.031239916, 0.11984462, 0.00936549]\n"
     ]
    }
   ],
   "source": [
    "print(str(all_threshs).replace(\"nan\",\"np.nan\"))"
   ]
  },
  {
   "cell_type": "code",
   "execution_count": 137,
   "metadata": {},
   "outputs": [
    {
     "name": "stdout",
     "output_type": "stream",
     "text": [
      "[7.2611583e-06, 3.8029718e-06, 0.00043354367, 4.167906e-07, 4.7786166e-09, 1.189347e-08, 9.09408e-09, 1.489974e-05, 2.1840038e-05, 1.8500214e-06, 2.5899712e-06, 0.00024218779, 1.956632e-07, 1.0862463e-10, 1.6243986e-08, 5.507509e-05, 0.000112184236, 1.574199e-08]\n"
     ]
    }
   ],
   "source": [
    "print(str(all_min).replace(\"nan\",\"np.nan\"))"
   ]
  },
  {
   "cell_type": "code",
   "execution_count": 138,
   "metadata": {},
   "outputs": [
    {
     "name": "stdout",
     "output_type": "stream",
     "text": [
      "[0.9997209, 0.9989944, 0.57375365, 0.9377187, 0.99945325, 0.8887256, 0.4997312, 0.9995877, 0.9962728, 0.8359465, 0.9961461, 0.9338063, 0.9997881, 0.8658175, 0.9999949, 0.99887985, 0.99982363, 0.999757]\n"
     ]
    }
   ],
   "source": [
    "print(str(all_max).replace(\"nan\",\"np.nan\"))"
   ]
  },
  {
   "cell_type": "code",
   "execution_count": 139,
   "metadata": {},
   "outputs": [
    {
     "name": "stdout",
     "output_type": "stream",
     "text": [
      "[0.9937518, 0.99484503, 0.57375365, 0.9282644, 0.9529527, 0.5661315, 0.4997312, 0.91090864, 0.99205655, 0.8359465, 0.9208461, 0.91701555, 0.9997881, 0.8658175, 0.99993837, 0.99887985, 0.8762074, 0.9988675]\n"
     ]
    }
   ],
   "source": [
    "print(str(all_ppv80).replace(\"nan\",\"np.nan\"))"
   ]
  },
  {
   "cell_type": "code",
   "execution_count": null,
   "metadata": {},
   "outputs": [],
   "source": []
  },
  {
   "cell_type": "code",
   "execution_count": null,
   "metadata": {},
   "outputs": [],
   "source": []
  },
  {
   "cell_type": "code",
   "execution_count": null,
   "metadata": {},
   "outputs": [],
   "source": []
  },
  {
   "cell_type": "code",
   "execution_count": null,
   "metadata": {},
   "outputs": [],
   "source": []
  },
  {
   "cell_type": "code",
   "execution_count": null,
   "metadata": {},
   "outputs": [],
   "source": []
  },
  {
   "cell_type": "code",
   "execution_count": null,
   "metadata": {},
   "outputs": [],
   "source": []
  },
  {
   "cell_type": "code",
   "execution_count": null,
   "metadata": {},
   "outputs": [],
   "source": []
  },
  {
   "cell_type": "code",
   "execution_count": 140,
   "metadata": {},
   "outputs": [],
   "source": [
    "ppv, recall, thres = sklearn.metrics.precision_recall_curve(results[3][0], results[2][0], pos_label=1)"
   ]
  },
  {
   "cell_type": "code",
   "execution_count": 141,
   "metadata": {},
   "outputs": [
    {
     "data": {
      "text/plain": [
       "array([0.08684627, 0.08682502, 0.08682704, ..., 1.        , 1.        ,\n",
       "       1.        ])"
      ]
     },
     "execution_count": 141,
     "metadata": {},
     "output_type": "execute_result"
    }
   ],
   "source": [
    "ppv"
   ]
  },
  {
   "cell_type": "code",
   "execution_count": 142,
   "metadata": {},
   "outputs": [
    {
     "data": {
      "text/plain": [
       "(array([1.00000000e+00, 9.99732119e-01, 9.99732119e-01, ...,\n",
       "        2.67881061e-04, 1.33940530e-04, 0.00000000e+00]),\n",
       " 51416)"
      ]
     },
     "execution_count": 142,
     "metadata": {},
     "output_type": "execute_result"
    }
   ],
   "source": [
    "recall, len(recall)"
   ]
  },
  {
   "cell_type": "code",
   "execution_count": 143,
   "metadata": {},
   "outputs": [
    {
     "data": {
      "text/plain": [
       "(array([-8.1549   , -8.153434 , -8.152814 , ...,  7.6707125,  7.7086   ,\n",
       "         8.183672 ], dtype=float32),\n",
       " 51415)"
      ]
     },
     "execution_count": 143,
     "metadata": {},
     "output_type": "execute_result"
    }
   ],
   "source": [
    "thres, len(thres)"
   ]
  },
  {
   "cell_type": "code",
   "execution_count": 144,
   "metadata": {},
   "outputs": [],
   "source": [
    "ppv80_thres = np.where(ppv > 0.8)[0][0]"
   ]
  },
  {
   "cell_type": "code",
   "execution_count": 145,
   "metadata": {},
   "outputs": [
    {
     "ename": "NameError",
     "evalue": "name 'npv' is not defined",
     "output_type": "error",
     "traceback": [
      "\u001b[0;31m---------------------------------------------------------------------------\u001b[0m",
      "\u001b[0;31mNameError\u001b[0m                                 Traceback (most recent call last)",
      "\u001b[0;32m<ipython-input-145-9b07bc6047b3>\u001b[0m in \u001b[0;36m<module>\u001b[0;34m\u001b[0m\n\u001b[0;32m----> 1\u001b[0;31m \u001b[0mppv80_thres\u001b[0m \u001b[0;34m=\u001b[0m \u001b[0mnp\u001b[0m\u001b[0;34m.\u001b[0m\u001b[0mwhere\u001b[0m\u001b[0;34m(\u001b[0m\u001b[0mnpv\u001b[0m \u001b[0;34m>\u001b[0m \u001b[0;36m0.8\u001b[0m\u001b[0;34m)\u001b[0m\u001b[0;34m[\u001b[0m\u001b[0;36m0\u001b[0m\u001b[0;34m]\u001b[0m\u001b[0;34m[\u001b[0m\u001b[0;36m0\u001b[0m\u001b[0;34m]\u001b[0m\u001b[0;34m\u001b[0m\u001b[0;34m\u001b[0m\u001b[0m\n\u001b[0m",
      "\u001b[0;31mNameError\u001b[0m: name 'npv' is not defined"
     ]
    }
   ],
   "source": [
    "ppv80_thres = np.where(npv > 0.8)[0][0]"
   ]
  },
  {
   "cell_type": "code",
   "execution_count": 146,
   "metadata": {},
   "outputs": [
    {
     "data": {
      "text/plain": [
       "5.0772295"
      ]
     },
     "execution_count": 146,
     "metadata": {},
     "output_type": "execute_result"
    }
   ],
   "source": [
    "thres[ppv80_thres]"
   ]
  },
  {
   "cell_type": "code",
   "execution_count": null,
   "metadata": {},
   "outputs": [],
   "source": []
  },
  {
   "cell_type": "code",
   "execution_count": null,
   "metadata": {},
   "outputs": [],
   "source": []
  },
  {
   "cell_type": "code",
   "execution_count": null,
   "metadata": {},
   "outputs": [],
   "source": []
  },
  {
   "cell_type": "code",
   "execution_count": 147,
   "metadata": {},
   "outputs": [],
   "source": [
    "model_urls = {}\n",
    "model_urls['all'] = {\n",
    "    \"weights_url\":\n",
    "    'https://github.com/mlmed/torchxrayvision/releases/download/v1/nih-pc-chex-mimic_ch-google-openi-kaggle-densenet121-d121-tw-lr001-rot45-tr15-sc15-seed0-best.pt',\n",
    "    \"op_threshs\": [\n",
    "        0.07422872, 0.038290843, 0.09814756, 0.0098118475, 0.023601074,\n",
    "        0.0022490358, 0.010060724, 0.103246614, 0.056810737, 0.026791653,\n",
    "        0.050318155, 0.023985857, 0.01939503, 0.042889766, 0.053369623,\n",
    "        0.035975814, 0.20204692, 0.05015312\n",
    "    ],\n",
    "    \"ppv80_thres\": [\n",
    "        0.72715247, 0.8885005, 0.92493945, 0.6527224, 0.68707734, 0.46127197,\n",
    "        0.7272054, 0.6127343, 0.9878492, 0.61979693, 0.66309816, 0.7853459,\n",
    "        0.930661, 0.93645346, 0.6788558, 0.6547198, 0.61614525, 0.8489876\n",
    "    ],\n",
    "    \"base\":\n",
    "    \"cohen\",\n",
    "    \"area_opacity\": {\n",
    "        \"theta\": 0.8705248236656189,\n",
    "        \"bias\": 3.4137437\n",
    "    },\n",
    "    \"degree_opacity\": {\n",
    "        \"theta\": 0.5484423041343689,\n",
    "        \"bias\": 2.5535977\n",
    "    }\n",
    "}"
   ]
  },
  {
   "cell_type": "code",
   "execution_count": 150,
   "metadata": {},
   "outputs": [
    {
     "data": {
      "text/plain": [
       "float"
      ]
     },
     "execution_count": 150,
     "metadata": {},
     "output_type": "execute_result"
    }
   ],
   "source": [
    "type(model_urls[\"all\"][\"area_opacity\"][\"theta\"])"
   ]
  },
  {
   "cell_type": "code",
   "execution_count": 149,
   "metadata": {},
   "outputs": [
    {
     "data": {
      "text/plain": [
       "3.4137437"
      ]
     },
     "execution_count": 149,
     "metadata": {},
     "output_type": "execute_result"
    }
   ],
   "source": [
    "model_urls[\"all\"][\"area_opacity\"][\"bias\"]"
   ]
  },
  {
   "cell_type": "code",
   "execution_count": null,
   "metadata": {},
   "outputs": [],
   "source": []
  }
 ],
 "metadata": {
  "kernelspec": {
   "display_name": "Python 3",
   "language": "python",
   "name": "python3"
  },
  "language_info": {
   "codemirror_mode": {
    "name": "ipython",
    "version": 3
   },
   "file_extension": ".py",
   "mimetype": "text/x-python",
   "name": "python",
   "nbconvert_exporter": "python",
   "pygments_lexer": "ipython3",
   "version": "3.7.7"
  }
 },
 "nbformat": 4,
 "nbformat_minor": 2
}
